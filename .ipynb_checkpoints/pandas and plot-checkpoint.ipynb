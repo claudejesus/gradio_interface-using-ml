{
 "cells": [
  {
   "cell_type": "code",
   "execution_count": 3,
   "id": "93ad86e8-9d00-4969-9631-1b7320e1495d",
   "metadata": {},
   "outputs": [],
   "source": [
    "import pandas\n",
    "data = 'diabetes.csv'\n",
    "names = ['Pregnancies', 'Glucose', 'BloodPressure', 'SkinThickness', 'Insulin', 'Outcome']\n",
    "dataset = pandas.read_csv(data, names=names)\n"
   ]
  },
  {
   "cell_type": "code",
   "execution_count": 4,
   "id": "6afbe507-baae-458d-9d22-f150d8e6e3d7",
   "metadata": {},
   "outputs": [
    {
     "name": "stdout",
     "output_type": "stream",
     "text": [
      "<class 'pandas.core.frame.DataFrame'>\n",
      "MultiIndex: 769 entries, ('Pregnancies', 'Glucose', 'BloodPressure') to ('1', '93', '70')\n",
      "Data columns (total 6 columns):\n",
      " #   Column         Non-Null Count  Dtype \n",
      "---  ------         --------------  ----- \n",
      " 0   Pregnancies    769 non-null    object\n",
      " 1   Glucose        769 non-null    object\n",
      " 2   BloodPressure  769 non-null    object\n",
      " 3   SkinThickness  769 non-null    object\n",
      " 4   Insulin        769 non-null    object\n",
      " 5   Outcome        769 non-null    object\n",
      "dtypes: object(6)\n",
      "memory usage: 46.3+ KB\n",
      "None\n"
     ]
    }
   ],
   "source": [
    "print(dataset.info ())"
   ]
  },
  {
   "cell_type": "code",
   "execution_count": 5,
   "id": "ceb8e6ee-0a09-47e6-986d-d5b0b979b13c",
   "metadata": {},
   "outputs": [
    {
     "name": "stdout",
     "output_type": "stream",
     "text": [
      "(769, 6)\n"
     ]
    }
   ],
   "source": [
    "print(dataset.shape)\n"
   ]
  },
  {
   "cell_type": "code",
   "execution_count": 7,
   "id": "28eb1d29-76bd-4e76-bf9f-452969939a1f",
   "metadata": {},
   "outputs": [
    {
     "name": "stdout",
     "output_type": "stream",
     "text": [
      "                                     Pregnancies  Glucose BloodPressure  \\\n",
      "Pregnancies Glucose BloodPressure  SkinThickness  Insulin           BMI   \n",
      "6           148     72                        35        0          33.6   \n",
      "1           85      66                        29        0          26.6   \n",
      "8           183     64                         0        0          23.3   \n",
      "1           89      66                        23       94          28.1   \n",
      "0           137     40                        35      168          43.1   \n",
      "5           116     74                         0        0          25.6   \n",
      "3           78      50                        32       88            31   \n",
      "10          115     0                          0        0          35.3   \n",
      "2           197     70                        45      543          30.5   \n",
      "\n",
      "                                              SkinThickness Insulin  Outcome  \n",
      "Pregnancies Glucose BloodPressure  DiabetesPedigreeFunction     Age  Outcome  \n",
      "6           148     72                                0.627      50        1  \n",
      "1           85      66                                0.351      31        0  \n",
      "8           183     64                                0.672      32        1  \n",
      "1           89      66                                0.167      21        0  \n",
      "0           137     40                                2.288      33        1  \n",
      "5           116     74                                0.201      30        0  \n",
      "3           78      50                                0.248      26        1  \n",
      "10          115     0                                 0.134      29        0  \n",
      "2           197     70                                0.158      53        1  \n"
     ]
    }
   ],
   "source": [
    "print(dataset.head(10))"
   ]
  },
  {
   "cell_type": "code",
   "execution_count": 8,
   "id": "5700b342-8aa9-4cb9-bddb-185efa85cbd0",
   "metadata": {},
   "outputs": [
    {
     "name": "stdout",
     "output_type": "stream",
     "text": [
      "          Pregnancies Glucose BloodPressure SkinThickness Insulin Outcome\n",
      "1  106 76           0       0          37.5         0.197      26       0\n",
      "6  190 92           0       0          35.5         0.278      66       1\n",
      "2  88  58          26      16          28.4         0.766      22       0\n",
      "9  170 74          31       0            44         0.403      43       1\n",
      "   89  62           0       0          22.5         0.142      33       0\n",
      "10 101 76          48     180          32.9         0.171      63       0\n",
      "2  122 70          27       0          36.8          0.34      27       0\n",
      "5  121 72          23     112          26.2         0.245      30       0\n",
      "1  126 60           0       0          30.1         0.349      47       1\n",
      "   93  70          31       0          30.4         0.315      23       0\n"
     ]
    }
   ],
   "source": [
    "print(dataset.tail(10))"
   ]
  },
  {
   "cell_type": "code",
   "execution_count": 23,
   "id": "d3a25817-ee58-4043-9a78-3a8a86121d14",
   "metadata": {},
   "outputs": [
    {
     "name": "stdout",
     "output_type": "stream",
     "text": [
      "       sepal-length sepal-width petal-length petal-width class\n",
      "count           769         769          769         769   769\n",
      "unique          187         249          518          53     3\n",
      "top               0          32        0.254          22     0\n",
      "freq            374          13            6          72   500\n"
     ]
    }
   ],
   "source": [
    "print(dataset.describe())"
   ]
  },
  {
   "cell_type": "code",
   "execution_count": 24,
   "id": "3ba7fae1-f137-4ded-9c0c-a759b69864f1",
   "metadata": {},
   "outputs": [],
   "source": [
    "import matplotlib.pyplot as plt"
   ]
  },
  {
   "cell_type": "code",
   "execution_count": 25,
   "id": "4393d842-7584-4dea-9a4d-c58a54345208",
   "metadata": {},
   "outputs": [],
   "source": [
    "data = 'diabetes.csv'\n",
    "names = ['sepal-length', 'sepal-width', 'petal-length', 'petal-width', 'class'] \n",
    "dataset = pandas.read_csv(data, names=names)"
   ]
  },
  {
   "cell_type": "code",
   "execution_count": 26,
   "id": "3474f6ed-f5e7-43e5-b26d-da8a63ed8779",
   "metadata": {},
   "outputs": [
    {
     "ename": "TypeError",
     "evalue": "no numeric data to plot",
     "output_type": "error",
     "traceback": [
      "\u001b[1;31m---------------------------------------------------------------------------\u001b[0m",
      "\u001b[1;31mTypeError\u001b[0m                                 Traceback (most recent call last)",
      "Cell \u001b[1;32mIn[26], line 1\u001b[0m\n\u001b[1;32m----> 1\u001b[0m dataset\u001b[38;5;241m.\u001b[39mplot(kind\u001b[38;5;241m=\u001b[39m\u001b[38;5;124m'\u001b[39m\u001b[38;5;124mbox\u001b[39m\u001b[38;5;124m'\u001b[39m, subplots\u001b[38;5;241m=\u001b[39m\u001b[38;5;28;01mTrue\u001b[39;00m, layout\u001b[38;5;241m=\u001b[39m(\u001b[38;5;241m2\u001b[39m,\u001b[38;5;241m2\u001b[39m), sharex\u001b[38;5;241m=\u001b[39m\u001b[38;5;28;01mFalse\u001b[39;00m, sharey\u001b[38;5;241m=\u001b[39m\u001b[38;5;28;01mFalse\u001b[39;00m)\n",
      "File \u001b[1;32mC:\\ProgramData\\anaconda3\\Lib\\site-packages\\pandas\\plotting\\_core.py:1030\u001b[0m, in \u001b[0;36mPlotAccessor.__call__\u001b[1;34m(self, *args, **kwargs)\u001b[0m\n\u001b[0;32m   1027\u001b[0m             label_name \u001b[38;5;241m=\u001b[39m label_kw \u001b[38;5;129;01mor\u001b[39;00m data\u001b[38;5;241m.\u001b[39mcolumns\n\u001b[0;32m   1028\u001b[0m             data\u001b[38;5;241m.\u001b[39mcolumns \u001b[38;5;241m=\u001b[39m label_name\n\u001b[1;32m-> 1030\u001b[0m \u001b[38;5;28;01mreturn\u001b[39;00m plot_backend\u001b[38;5;241m.\u001b[39mplot(data, kind\u001b[38;5;241m=\u001b[39mkind, \u001b[38;5;241m*\u001b[39m\u001b[38;5;241m*\u001b[39mkwargs)\n",
      "File \u001b[1;32mC:\\ProgramData\\anaconda3\\Lib\\site-packages\\pandas\\plotting\\_matplotlib\\__init__.py:71\u001b[0m, in \u001b[0;36mplot\u001b[1;34m(data, kind, **kwargs)\u001b[0m\n\u001b[0;32m     69\u001b[0m         kwargs[\u001b[38;5;124m\"\u001b[39m\u001b[38;5;124max\u001b[39m\u001b[38;5;124m\"\u001b[39m] \u001b[38;5;241m=\u001b[39m \u001b[38;5;28mgetattr\u001b[39m(ax, \u001b[38;5;124m\"\u001b[39m\u001b[38;5;124mleft_ax\u001b[39m\u001b[38;5;124m\"\u001b[39m, ax)\n\u001b[0;32m     70\u001b[0m plot_obj \u001b[38;5;241m=\u001b[39m PLOT_CLASSES[kind](data, \u001b[38;5;241m*\u001b[39m\u001b[38;5;241m*\u001b[39mkwargs)\n\u001b[1;32m---> 71\u001b[0m plot_obj\u001b[38;5;241m.\u001b[39mgenerate()\n\u001b[0;32m     72\u001b[0m plot_obj\u001b[38;5;241m.\u001b[39mdraw()\n\u001b[0;32m     73\u001b[0m \u001b[38;5;28;01mreturn\u001b[39;00m plot_obj\u001b[38;5;241m.\u001b[39mresult\n",
      "File \u001b[1;32mC:\\ProgramData\\anaconda3\\Lib\\site-packages\\pandas\\plotting\\_matplotlib\\core.py:499\u001b[0m, in \u001b[0;36mMPLPlot.generate\u001b[1;34m(self)\u001b[0m\n\u001b[0;32m    497\u001b[0m \u001b[38;5;129m@final\u001b[39m\n\u001b[0;32m    498\u001b[0m \u001b[38;5;28;01mdef\u001b[39;00m \u001b[38;5;21mgenerate\u001b[39m(\u001b[38;5;28mself\u001b[39m) \u001b[38;5;241m-\u001b[39m\u001b[38;5;241m>\u001b[39m \u001b[38;5;28;01mNone\u001b[39;00m:\n\u001b[1;32m--> 499\u001b[0m     \u001b[38;5;28mself\u001b[39m\u001b[38;5;241m.\u001b[39m_compute_plot_data()\n\u001b[0;32m    500\u001b[0m     fig \u001b[38;5;241m=\u001b[39m \u001b[38;5;28mself\u001b[39m\u001b[38;5;241m.\u001b[39mfig\n\u001b[0;32m    501\u001b[0m     \u001b[38;5;28mself\u001b[39m\u001b[38;5;241m.\u001b[39m_make_plot(fig)\n",
      "File \u001b[1;32mC:\\ProgramData\\anaconda3\\Lib\\site-packages\\pandas\\plotting\\_matplotlib\\core.py:698\u001b[0m, in \u001b[0;36mMPLPlot._compute_plot_data\u001b[1;34m(self)\u001b[0m\n\u001b[0;32m    696\u001b[0m \u001b[38;5;66;03m# no non-numeric frames or series allowed\u001b[39;00m\n\u001b[0;32m    697\u001b[0m \u001b[38;5;28;01mif\u001b[39;00m is_empty:\n\u001b[1;32m--> 698\u001b[0m     \u001b[38;5;28;01mraise\u001b[39;00m \u001b[38;5;167;01mTypeError\u001b[39;00m(\u001b[38;5;124m\"\u001b[39m\u001b[38;5;124mno numeric data to plot\u001b[39m\u001b[38;5;124m\"\u001b[39m)\n\u001b[0;32m    700\u001b[0m \u001b[38;5;28mself\u001b[39m\u001b[38;5;241m.\u001b[39mdata \u001b[38;5;241m=\u001b[39m numeric_data\u001b[38;5;241m.\u001b[39mapply(\u001b[38;5;28mtype\u001b[39m(\u001b[38;5;28mself\u001b[39m)\u001b[38;5;241m.\u001b[39m_convert_to_ndarray)\n",
      "\u001b[1;31mTypeError\u001b[0m: no numeric data to plot"
     ]
    }
   ],
   "source": [
    "dataset.plot(kind='box', subplots=True, layout=(2,2), sharex=False, sharey=False)"
   ]
  },
  {
   "cell_type": "code",
   "execution_count": null,
   "id": "9703e15d-bee3-4c70-a034-3127e5b76b97",
   "metadata": {},
   "outputs": [],
   "source": []
  }
 ],
 "metadata": {
  "kernelspec": {
   "display_name": "Python 3 (ipykernel)",
   "language": "python",
   "name": "python3"
  },
  "language_info": {
   "codemirror_mode": {
    "name": "ipython",
    "version": 3
   },
   "file_extension": ".py",
   "mimetype": "text/x-python",
   "name": "python",
   "nbconvert_exporter": "python",
   "pygments_lexer": "ipython3",
   "version": "3.12.4"
  }
 },
 "nbformat": 4,
 "nbformat_minor": 5
}
